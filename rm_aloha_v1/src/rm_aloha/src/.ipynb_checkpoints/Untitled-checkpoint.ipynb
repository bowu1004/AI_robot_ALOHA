{
 "cells": [
  {
   "cell_type": "code",
   "execution_count": null,
   "id": "fb83969c-47b8-4532-a08d-a7b79140a5b1",
   "metadata": {},
   "outputs": [],
   "source": [
    "from real_env import *"
   ]
  }
 ],
 "metadata": {
  "kernelspec": {
   "display_name": "Python 3 (ipykernel)",
   "language": "python",
   "name": "python3"
  },
  "language_info": {
   "codemirror_mode": {
    "name": "ipython",
    "version": 3
   },
   "file_extension": ".py",
   "mimetype": "text/x-python",
   "name": "python",
   "nbconvert_exporter": "python",
   "pygments_lexer": "ipython3",
   "version": "3.8.19"
  }
 },
 "nbformat": 4,
 "nbformat_minor": 5
}
