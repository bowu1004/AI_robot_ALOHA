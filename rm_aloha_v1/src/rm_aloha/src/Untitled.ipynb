{
 "cells": [
  {
   "cell_type": "code",
   "execution_count": 1,
   "id": "fb83969c-47b8-4532-a08d-a7b79140a5b1",
   "metadata": {},
   "outputs": [
    {
     "name": "stderr",
     "output_type": "stream",
     "text": [
      "2024-06-12 10:56:17 - robotic_arm_package.robotic_arm - INFO: 开始进行机械臂API初始化完毕\n",
      "2024-06-12 10:56:17 - robotic_arm_package.robotic_arm - INFO: API_Version:4.3.0\n",
      "2024-06-12 10:56:18 - robotic_arm_package.robotic_arm - INFO: 连接机械臂成功，句柄为:58\n",
      "2024-06-12 10:56:18 - robotic_arm_package.robotic_arm - INFO: 开始进行机械臂API初始化完毕\n",
      "2024-06-12 10:56:18 - robotic_arm_package.robotic_arm - INFO: API_Version:4.3.0\n",
      "2024-06-12 10:56:19 - robotic_arm_package.robotic_arm - INFO: 连接机械臂成功，句柄为:60\n",
      "/home/rm/rm_aloha/src/rm_aloha/src/robot_utils.py:96: UserWarning: '{side}_recorder_743144_1718160979131' is not a legal ROS base name. This may cause problems with other ROS tools.\n",
      "  rospy.init_node('{side}_recorder', anonymous=True)\n"
     ]
    },
    {
     "name": "stdout",
     "output_type": "stream",
     "text": [
      "Unable to register with master node [http://localhost:11311]: master may not be running yet. Will keep trying.\n",
      "/l_arm/joint_states\n",
      "/r_arm/joint_states\n"
     ]
    }
   ],
   "source": [
    "from real_env import *\n",
    "\n",
    "env = make_real_env(init_node=True, setup_robots=True, setup_base=True)"
   ]
  },
  {
   "cell_type": "code",
   "execution_count": 5,
   "id": "e0c4326e-fd05-4738-838e-544c9a8e0a00",
   "metadata": {},
   "outputs": [
    {
     "name": "stderr",
     "output_type": "stream",
     "text": [
      "2024-06-11 19:01:22 - robotic_arm_package.robotic_arm - INFO: Get_Joint_Degree:0\n",
      "2024-06-11 19:01:22 - robotic_arm_package.robotic_arm - INFO: Get_Joint_Degree:0\n"
     ]
    },
    {
     "name": "stdout",
     "output_type": "stream",
     "text": [
      "(0, [0.14900000393390656, -0.32899999618530273, 1.1299999952316284, -0.05900000035762787, -0.13099999725818634, 0.2070000022649765, 0.0])\n",
      "(0, [9.726000010967255, 0.27399998903274536, 0.7960000038146973, 0.11500000208616257, -0.15600000321865082, -0.7820000052452087, 0.0])\n"
     ]
    }
   ],
   "source": [
    "l_states,r_states = env.get_rm_pose()\n",
    "l_states[1][0] = l_states[1][0]+10\n",
    "print(r_states)\n",
    "print(l_states)"
   ]
  },
  {
   "cell_type": "code",
   "execution_count": 6,
   "id": "57eae702-fe19-4199-8fb8-dc0d1b6e1da3",
   "metadata": {},
   "outputs": [
    {
     "name": "stderr",
     "output_type": "stream",
     "text": [
      "2024-06-11 19:01:26 - robotic_arm_package.robotic_arm - INFO: Movej_Cmd:0\n",
      "2024-06-11 19:01:26 - robotic_arm_package.robotic_arm - INFO: Movej_Cmd:0\n",
      "2024-06-11 19:01:26 - robotic_arm_package.robotic_arm - INFO: Set_Gripper_Position:0\n",
      "2024-06-11 19:01:26 - robotic_arm_package.robotic_arm - INFO: Set_Gripper_Position:0\n"
     ]
    },
    {
     "name": "stdout",
     "output_type": "stream",
     "text": [
      "[9.726000010967255, 0.27399998903274536, 0.7960000038146973, 0.11500000208616257, -0.15600000321865082, -0.7820000052452087, 0.2, 0.14900000393390656, -0.32899999618530273, 1.1299999952316284, -0.05900000035762787, -0.13099999725818634, 0.2070000022649765, 0.2]\n"
     ]
    },
    {
     "data": {
      "text/plain": [
       "TimeStep(step_type=<StepType.MID: 1>, reward=0, discount=None, observation=None)"
      ]
     },
     "execution_count": 6,
     "metadata": {},
     "output_type": "execute_result"
    }
   ],
   "source": [
    "actions = l_states[1][:6] + [0.2] + r_states[1][:6] +[0.2]\n",
    "print(actions)\n",
    "env.step_rm(actions, get_obs=False)"
   ]
  },
  {
   "cell_type": "code",
   "execution_count": 4,
   "id": "1668d492-cb3f-4958-bfa8-3eef56e34aa2",
   "metadata": {},
   "outputs": [],
   "source": [
    "a = range(10)"
   ]
  },
  {
   "cell_type": "code",
   "execution_count": 8,
   "id": "c05176b8-1214-4832-87f8-ad1ca2c4ef91",
   "metadata": {},
   "outputs": [
    {
     "data": {
      "text/plain": [
       "[0, 1, 2]"
      ]
     },
     "execution_count": 8,
     "metadata": {},
     "output_type": "execute_result"
    }
   ],
   "source": [
    "a = [0,1,2,3,4]\n",
    "a[:3]\n"
   ]
  },
  {
   "cell_type": "code",
   "execution_count": 11,
   "id": "ef0a8655-aa2e-4353-8e43-ff34be4e19da",
   "metadata": {},
   "outputs": [
    {
     "data": {
      "text/plain": [
       "[0, 1, 2, 3, 4, 3]"
      ]
     },
     "execution_count": 11,
     "metadata": {},
     "output_type": "execute_result"
    }
   ],
   "source": [
    "a+[3]"
   ]
  },
  {
   "cell_type": "code",
   "execution_count": 47,
   "id": "b6505d2b-0dff-4fc3-a2f5-4a380341bcc5",
   "metadata": {},
   "outputs": [
    {
     "name": "stderr",
     "output_type": "stream",
     "text": [
      "2024-06-11 14:25:08 - robotic_arm_package.robotic_arm - INFO: Set_Gripper_Position:0\n",
      "2024-06-11 14:25:08 - robotic_arm_package.robotic_arm - INFO: Get_Gripper_State:0\n"
     ]
    }
   ],
   "source": [
    "env.arm_left.Set_Gripper_Position(200,block=False)\n",
    "_,a= env.arm_left.Get_Gripper_State()"
   ]
  },
  {
   "cell_type": "code",
   "execution_count": 49,
   "id": "3a941c40-a675-40b6-a8e6-62185c583dda",
   "metadata": {},
   "outputs": [
    {
     "data": {
      "text/plain": [
       "True"
      ]
     },
     "execution_count": 49,
     "metadata": {},
     "output_type": "execute_result"
    }
   ],
   "source": [
    "a.enable_state"
   ]
  },
  {
   "cell_type": "code",
   "execution_count": 54,
   "id": "5800dd0a-93af-4454-a07d-7d88b20ac6d6",
   "metadata": {},
   "outputs": [
    {
     "data": {
      "text/plain": [
       "199"
      ]
     },
     "execution_count": 54,
     "metadata": {},
     "output_type": "execute_result"
    }
   ],
   "source": [
    "a.temperature"
   ]
  },
  {
   "cell_type": "code",
   "execution_count": 4,
   "id": "da25c272-b043-4e1a-b0ed-a4f2a909f5a7",
   "metadata": {},
   "outputs": [
    {
     "name": "stderr",
     "output_type": "stream",
     "text": [
      "2024-06-12 10:57:27 - robotic_arm_package.robotic_arm - INFO: Get_Joint_Degree:0\n"
     ]
    },
    {
     "data": {
      "text/plain": [
       "list"
      ]
     },
     "execution_count": 4,
     "metadata": {},
     "output_type": "execute_result"
    }
   ],
   "source": [
    "_,a= env.arm_right.Get_Joint_Degree()\n",
    "type(a)"
   ]
  },
  {
   "cell_type": "code",
   "execution_count": 2,
   "id": "69a83373-ae8a-42f5-8a28-36db4f58cc0f",
   "metadata": {},
   "outputs": [
    {
     "name": "stdout",
     "output_type": "stream",
     "text": [
      "<pyrealsense2.device: D435 (S/N: 152122077968  FW: 5.12.7.150  on USB2.1)> <pyrealsense2.device: D435 (S/N: 150622070125  FW: 5.12.7.150  on USB2.1)>\n"
     ]
    }
   ],
   "source": [
    "import pyrealsense2 as rs\n",
    "ctx = rs.context()\n",
    "print(ctx.devices[0], ctx.devices[1])"
   ]
  },
  {
   "cell_type": "code",
   "execution_count": 3,
   "id": "283a2dc2-d9c2-480d-b181-3a649aac2682",
   "metadata": {},
   "outputs": [
    {
     "data": {
      "text/plain": [
       "<pyrealsense2.pyrealsense2.device_list at 0x7f7cdc146130>"
      ]
     },
     "execution_count": 3,
     "metadata": {},
     "output_type": "execute_result"
    }
   ],
   "source": [
    "ctx.devices"
   ]
  },
  {
   "cell_type": "code",
   "execution_count": 4,
   "id": "ac2ba4ed-8ab5-4fbf-bb2b-41865dce6bbb",
   "metadata": {},
   "outputs": [
    {
     "name": "stdout",
     "output_type": "stream",
     "text": [
      "<pyrealsense2.device: D435 (S/N: 152122077968  FW: 5.12.7.150  on USB2.1)>\n",
      "<pyrealsense2.device: D435 (S/N: 150622070125  FW: 5.12.7.150  on USB2.1)>\n",
      "<pyrealsense2.device: D435 (S/N: 151322070159  FW: 5.15.1  on USB3.2)>\n"
     ]
    }
   ],
   "source": [
    "for i in ctx.devices:\n",
    "    print(i)"
   ]
  },
  {
   "cell_type": "code",
   "execution_count": null,
   "id": "57390968-0bd8-44e3-bbb8-2d30dc76b256",
   "metadata": {},
   "outputs": [],
   "source": []
  }
 ],
 "metadata": {
  "kernelspec": {
   "display_name": "Python 3 (ipykernel)",
   "language": "python",
   "name": "python3"
  },
  "language_info": {
   "codemirror_mode": {
    "name": "ipython",
    "version": 3
   },
   "file_extension": ".py",
   "mimetype": "text/x-python",
   "name": "python",
   "nbconvert_exporter": "python",
   "pygments_lexer": "ipython3",
   "version": "3.8.19"
  }
 },
 "nbformat": 4,
 "nbformat_minor": 5
}
